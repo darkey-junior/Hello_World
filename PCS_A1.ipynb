{
  "nbformat": 4,
  "nbformat_minor": 0,
  "metadata": {
    "colab": {
      "name": "PCS-A1.ipynb",
      "provenance": [],
      "authorship_tag": "ABX9TyMJyJlbvaz2R2yPRgDw/2Ry",
      "include_colab_link": true
    },
    "kernelspec": {
      "name": "python3",
      "display_name": "Python 3"
    },
    "language_info": {
      "name": "python"
    }
  },
  "cells": [
    {
      "cell_type": "markdown",
      "metadata": {
        "id": "view-in-github",
        "colab_type": "text"
      },
      "source": [
        "<a href=\"https://colab.research.google.com/github/darkey-junior/Process-Control-Simulation/blob/master/PCS_A1.ipynb\" target=\"_parent\"><img src=\"https://colab.research.google.com/assets/colab-badge.svg\" alt=\"Open In Colab\"/></a>"
      ]
    },
    {
      "cell_type": "code",
      "source": [
        "#Solution to process control assignment1\n",
        "\n",
        "import numpy as np\n",
        "from scipy.integrate import odeint\n",
        "import matplotlib.pyplot as plt\n",
        "%matplotlib inline \n",
        "def firstorder(y,t):\n",
        "  dydt = 14 - y/5\n",
        "  return dydt\n",
        "t = np.linspace(0,30,31)\n",
        "y = odeint(firstorder,80,t)\n",
        "plt.plot(t,y)"
      ],
      "metadata": {
        "id": "DQpMecHfuCpY"
      },
      "execution_count": null,
      "outputs": []
    },
    {
      "cell_type": "code",
      "source": [
        "def nextorder(C,T):\n",
        "  dCdT = (2-C)/5\n",
        "  return dCdT\n",
        "T = np.linspace(0,30,31) \n",
        "C = odeint(nextorder,3,T)\n",
        "plt.plot(T,C)"
      ],
      "metadata": {
        "id": "GA-JcDd4w9ss"
      },
      "execution_count": null,
      "outputs": []
    },
    {
      "cell_type": "code",
      "source": [
        ""
      ],
      "metadata": {
        "id": "DF4eVgpWz0-q"
      },
      "execution_count": null,
      "outputs": []
    }
  ]
}